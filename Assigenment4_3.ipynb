{
 "cells": [
  {
   "cell_type": "markdown",
   "metadata": {},
   "source": [
    "# Problem"
   ]
  },
  {
   "cell_type": "markdown",
   "metadata": {},
   "source": [
    "In a class on 100 students, 80 students passed in all subjects, 10 failed in one subject, 7 failed in two subjects and 3 failed in three subjects. Find the probability distribution of the variable for number of subjects a student from the given class has failed in."
   ]
  },
  {
   "cell_type": "markdown",
   "metadata": {},
   "source": [
    "# Soluation"
   ]
  },
  {
   "cell_type": "code",
   "execution_count": 4,
   "metadata": {},
   "outputs": [
    {
     "name": "stdout",
     "output_type": "stream",
     "text": [
      "Fall in all Subject P(X = 0) = 0.8\n",
      "Fall in 1 Subject P(X = 1) = 0.1\n",
      "Fall in 2 Subject P(X = 2) = 0.7\n",
      "Fall in 3 Subject P(X = 3) = 0.3\n"
     ]
    }
   ],
   "source": [
    "# The probability distribution for the number of subjects a student has failed in X is as follows:\n",
    "n=100 #Total No of Student\n",
    "p=80 #Totan No of passed Student\n",
    "print(\"Fall in all Subject P(X = 0) =\",  80/100)\n",
    "print(\"Fall in 1 Subject P(X = 1) =\", 10/100)\n",
    "print(\"Fall in 2 Subject P(X = 2) =\", 70/100)\n",
    "print(\"Fall in 3 Subject P(X = 3) =\", 30/100)\n"
   ]
  },
  {
   "cell_type": "code",
   "execution_count": null,
   "metadata": {},
   "outputs": [],
   "source": [
    "import matplotlib.pyplot as plt\n",
    "y = (80/100,10/100,7/100,3/100)\n",
    "width = 0.4\n",
    "ind =  (0,1,2,3)\n",
    "plt.xticks(ind)\n",
    "plt.bar(ind, y, width, color='r')"
   ]
  }
 ],
 "metadata": {
  "kernelspec": {
   "display_name": "Python 3",
   "language": "python",
   "name": "python3"
  },
  "language_info": {
   "codemirror_mode": {
    "name": "ipython",
    "version": 3
   },
   "file_extension": ".py",
   "mimetype": "text/x-python",
   "name": "python",
   "nbconvert_exporter": "python",
   "pygments_lexer": "ipython3",
   "version": "3.6.4"
  }
 },
 "nbformat": 4,
 "nbformat_minor": 2
}
