{
 "cells": [
  {
   "cell_type": "markdown",
   "metadata": {},
   "source": [
    "# Assigenment4_8"
   ]
  },
  {
   "cell_type": "markdown",
   "metadata": {},
   "source": [
    "\n",
    "\n",
    "In one state, 52% of the voters are Republicans, and 48% are Democrats. In a second state, 47% of the voters are Republicans, and 53% are Democrats. Suppose a simple random sample of 100 voters are surveyed from each state.\n",
    "\n",
    "What is the probability that the survey will show a greater percentage of Republican voters in the second state than in the first state?\n"
   ]
  },
  {
   "cell_type": "markdown",
   "metadata": {},
   "source": [
    "# Soluation"
   ]
  },
  {
   "cell_type": "markdown",
   "metadata": {},
   "source": [
    "\n",
    "\n",
    "Let the proportions be modelled by a normal distribution\n",
    "Thus, sample proportion P1 of republicans of state 1 is normally distributed\n",
    "with μ1 = 0.52, σ1 = √(0.52(1-0.52)/100) = 0.0499\n",
    "\n",
    "Similarly,\n",
    "Sample proportion P2 of republicans of state 2 is normally distributed\n",
    "with μ2 = 0.47, σ2 = √(0.47(1-0.47)/100) = 0.0499\n",
    "\n",
    "The difference can be modelled with a normal distribution\n",
    "\n",
    "μdiff = μ1 - μ2 = 0.52 - 0.47 = 0.05\n",
    "\n",
    "σdiff = √(σ12 + σ22) = 0.071\n",
    "\n",
    "P(greater percentage of republicans in second state than in first) = P(P_diff < 0)\n",
    "\n",
    "Converting to a standard normal distribution,\n",
    "We require\n",
    "P(Z < (0 - μdiff)/σdiff)\n",
    "= P(Z < -0.704) = 0.241\n",
    "\n",
    "Thus, the probability that the survey will show a greater percentage of republican voters in the second state than in the first state is 0.241\n"
   ]
  },
  {
   "cell_type": "code",
   "execution_count": null,
   "metadata": {},
   "outputs": [],
   "source": []
  }
 ],
 "metadata": {
  "kernelspec": {
   "display_name": "Python 3",
   "language": "python",
   "name": "python3"
  },
  "language_info": {
   "codemirror_mode": {
    "name": "ipython",
    "version": 3
   },
   "file_extension": ".py",
   "mimetype": "text/x-python",
   "name": "python",
   "nbconvert_exporter": "python",
   "pygments_lexer": "ipython3",
   "version": "3.6.4"
  }
 },
 "nbformat": 4,
 "nbformat_minor": 2
}
