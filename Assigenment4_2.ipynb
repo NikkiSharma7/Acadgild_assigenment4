{
 "cells": [
  {
   "cell_type": "markdown",
   "metadata": {},
   "source": [
    "# Problem"
   ]
  },
  {
   "cell_type": "markdown",
   "metadata": {},
   "source": [
    "Find the variance for the following set of data representing trees in California (heights in\n",
    "feet):\n",
    "3, 21, 98, 203, 17, 9"
   ]
  },
  {
   "cell_type": "markdown",
   "metadata": {},
   "source": [
    "# soluation"
   ]
  },
  {
   "cell_type": "code",
   "execution_count": 2,
   "metadata": {},
   "outputs": [],
   "source": [
    "data= 3, 21, 98, 203, 17, 9 # give data"
   ]
  },
  {
   "cell_type": "code",
   "execution_count": 3,
   "metadata": {},
   "outputs": [
    {
     "name": "stdout",
     "output_type": "stream",
     "text": [
      "Mean is : 58.5\n"
     ]
    }
   ],
   "source": [
    "# Step 1: Calculate mean\n",
    "\n",
    "mean=sum(data)/len(data)\n",
    "print(\"Mean is :\",mean)"
   ]
  },
  {
   "cell_type": "code",
   "execution_count": 4,
   "metadata": {},
   "outputs": [
    {
     "name": "stdout",
     "output_type": "stream",
     "text": [
      "Sample Variance is : 6219.9\n",
      "Population Variance is : 5183.25\n"
     ]
    }
   ],
   "source": [
    "\n",
    "# Step 2: Calculate  variance \n",
    "n=len(data) # check length of data\n",
    "s= sum((x-mean)**2 for x in data)\n",
    "s_var=s/(n-1) # Variance for sample\n",
    "print(\"Sample Variance is :\",s_var)\n",
    "p_var=s/n\n",
    "print(\"Population Variance is :\",p_var)"
   ]
  },
  {
   "cell_type": "markdown",
   "metadata": {},
   "source": [
    "# using Numpy"
   ]
  },
  {
   "cell_type": "code",
   "execution_count": 5,
   "metadata": {},
   "outputs": [],
   "source": [
    "import numpy as np"
   ]
  },
  {
   "cell_type": "code",
   "execution_count": 6,
   "metadata": {},
   "outputs": [
    {
     "name": "stdout",
     "output_type": "stream",
     "text": [
      "mean is : 58.5\n",
      "Variance of data is : 5183.25\n"
     ]
    }
   ],
   "source": [
    "print(\"mean is :\",np.mean(data))\n",
    "print(\"Variance of data is :\", np.var(data))"
   ]
  },
  {
   "cell_type": "code",
   "execution_count": null,
   "metadata": {},
   "outputs": [],
   "source": []
  }
 ],
 "metadata": {
  "kernelspec": {
   "display_name": "Python 3",
   "language": "python",
   "name": "python3"
  },
  "language_info": {
   "codemirror_mode": {
    "name": "ipython",
    "version": 3
   },
   "file_extension": ".py",
   "mimetype": "text/x-python",
   "name": "python",
   "nbconvert_exporter": "python",
   "pygments_lexer": "ipython3",
   "version": "3.6.4"
  }
 },
 "nbformat": 4,
 "nbformat_minor": 2
}
