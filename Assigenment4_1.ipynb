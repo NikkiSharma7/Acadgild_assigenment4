{
 "cells": [
  {
   "cell_type": "markdown",
   "metadata": {},
   "source": [
    "# Problem"
   ]
  },
  {
   "cell_type": "markdown",
   "metadata": {},
   "source": [
    "You survey households in your area to find the average rent they are paying. Find the\n",
    "standard deviation from the following data:\n",
    "$1550, $1700, $900, $850, $1000, $950."
   ]
  },
  {
   "cell_type": "markdown",
   "metadata": {},
   "source": [
    "# Soluation"
   ]
  },
  {
   "cell_type": "code",
   "execution_count": 45,
   "metadata": {},
   "outputs": [],
   "source": [
    "data=1550,1700,900,850,1000,950 # give data"
   ]
  },
  {
   "cell_type": "code",
   "execution_count": 80,
   "metadata": {},
   "outputs": [],
   "source": [
    "# We calculate both sample and population both"
   ]
  },
  {
   "cell_type": "code",
   "execution_count": 81,
   "metadata": {},
   "outputs": [
    {
     "name": "stdout",
     "output_type": "stream",
     "text": [
      "Mean is : 1158.3333333333333\n"
     ]
    }
   ],
   "source": [
    "# Step 1: Calculate mean\n",
    "\n",
    "mean=sum(data)/len(data)\n",
    "print(\"Mean is :\",mean)"
   ]
  },
  {
   "cell_type": "code",
   "execution_count": 92,
   "metadata": {},
   "outputs": [
    {
     "name": "stdout",
     "output_type": "stream",
     "text": [
      "Sample Variance is : 135416.6666666667\n",
      "Population Variance is : 112847.22222222223\n"
     ]
    }
   ],
   "source": [
    "\n",
    "# Step 2: Calculate  variance \n",
    "n=len(data) # check length of data\n",
    "s= sum((x-mean)**2 for x in data)\n",
    "s_var=s/(n-1) # Variance for sample\n",
    "print(\"Sample Variance is :\",s_var)\n",
    "p_var=s/n\n",
    "print(\"Population Variance is :\",p_var)"
   ]
  },
  {
   "cell_type": "code",
   "execution_count": 95,
   "metadata": {},
   "outputs": [
    {
     "name": "stdout",
     "output_type": "stream",
     "text": [
      "Sample Standard Deviation is : 367.99003609699366\n",
      "Population Standard Deviation is : 335.92740617910624\n"
     ]
    }
   ],
   "source": [
    "#  Step 3 : Calculate Standard deviation \n",
    "s_std=s_var**0.5 # sqaure root of sample variance\n",
    "print(\"Sample Standard Deviation is :\",s_std)\n",
    "p_std=p_var**0.5 #sqare root of population variance\n",
    "print(\"Population Standard Deviation is :\",p_std)"
   ]
  },
  {
   "cell_type": "markdown",
   "metadata": {},
   "source": [
    "# Using numpy and statistics  library"
   ]
  },
  {
   "cell_type": "code",
   "execution_count": 96,
   "metadata": {},
   "outputs": [],
   "source": [
    "#Using numpy and statistics  library\n",
    "import numpy as np\n",
    "import statistics as stat"
   ]
  },
  {
   "cell_type": "code",
   "execution_count": 98,
   "metadata": {},
   "outputs": [
    {
     "name": "stdout",
     "output_type": "stream",
     "text": [
      "mean is : 1158.33333333\n",
      "Variance of data is : 112847.222222\n",
      "standard deviation is : 335.927406179\n"
     ]
    }
   ],
   "source": [
    "print(\"mean is :\",np.mean(data))\n",
    "print(\"Variance of data is :\", np.var(data))\n",
    "print(\"standard deviation is :\",np.std(data))"
   ]
  },
  {
   "cell_type": "code",
   "execution_count": null,
   "metadata": {},
   "outputs": [],
   "source": []
  }
 ],
 "metadata": {},
 "nbformat": 4,
 "nbformat_minor": 2
}
